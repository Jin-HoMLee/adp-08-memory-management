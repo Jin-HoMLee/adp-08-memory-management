{
 "cells": [
  {
   "cell_type": "markdown",
   "id": "4bcebe1b",
   "metadata": {},
   "source": [
    "# Hands-On Code: Memory Management in Google Agent Developer Kit (ADK)"
   ]
  },
  {
   "cell_type": "markdown",
   "id": "5a428add",
   "metadata": {},
   "source": [
    "> Adapted and modified from https://docs.google.com/document/d/1asVTObtzIye0I9ypAztaeeI_sr_Hx2TORE02uUuqH_c/edit?tab=t.0\n",
    "> \n",
    "> Sa 18 Okt 2025 13:20:08 BST"
   ]
  },
  {
   "cell_type": "markdown",
   "id": "b69354dd",
   "metadata": {},
   "source": [
    "The Google Agent Developer Kit (ADK) offers a structured method for managing context and memory, including components for practical application. A solid grasp of ADK's Session, State, and Memory is vital for building agents that need to retain information.\n",
    "\n",
    "Just as in human interactions, agents require the ability to recall previous exchanges to conduct coherent and natural conversations. ADK simplifies context management through three core concepts and their associated services.\n",
    "\n",
    "Every interaction with an agent can be considered a unique conversation thread. Agents might need to access data from earlier interactions. ADK structures this as follows:\n",
    "\n",
    "- **Session:** An individual chat thread that logs messages and actions (Events) for that specific interaction, also storing temporary data (State) relevant to that conversation.\n",
    "- **State (session.state):** Data stored within a Session, containing information relevant only to the current, active chat thread.\n",
    "- **Memory:** A searchable repository of information sourced from various past chats or external sources, serving as a resource for data retrieval beyond the immediate conversation.\n",
    "\n",
    "ADK provides dedicated services for managing critical components essential for building complex, stateful, and context-aware agents. The SessionService manages chat threads (Session objects) by handling their initiation, recording, and termination, while the MemoryService oversees the storage and retrieval of long-term knowledge (Memory).\n",
    "\n",
    "Both the SessionService and MemoryService offer various configuration options, allowing users to choose storage methods based on application needs. In-memory options are available for testing purposes, though data will not persist across restarts. For persistent storage and scalability, ADK also supports database and cloud-based services."
   ]
  },
  {
   "cell_type": "markdown",
   "id": "8502f7ed",
   "metadata": {},
   "source": [
    "## Session: Keeping Track of Each Chat"
   ]
  },
  {
   "cell_type": "markdown",
   "id": "3b94da0a",
   "metadata": {},
   "source": [
    "A Session object in ADK is designed to track and manage individual chat threads. Upon initiation of a conversation with an agent, the SessionService generates a Session object, represented as `google.adk.sessions.Session`. This object encapsulates all data relevant to a specific conversation thread, including unique identifiers (id, app_name, user_id), a chronological record of events as Event objects, a storage area for session-specific temporary data known as state, and a timestamp indicating the last update (last_update_time). Developers typically interact with Session objects indirectly through the SessionService. The SessionService is responsible for managing the lifecycle of conversation sessions, which includes initiating new sessions, resuming previous sessions, recording session activity (including state updates), identifying active sessions, and managing the removal of session data. The ADK provides several SessionService implementations with varying storage mechanisms for session history and temporary data, such as the InMemorySessionService, which is suitable for testing but does not provide data persistence across application restarts."
   ]
  },
  {
   "cell_type": "code",
   "execution_count": 1,
   "id": "c308e948",
   "metadata": {},
   "outputs": [],
   "source": [
    "# Example: Using InMemorySessionService\n",
    "# This is suitable for local development and testing where data \n",
    "# persistence across application restarts is not required.\n",
    "from google.adk.sessions import InMemorySessionService\n",
    "session_service = InMemorySessionService()"
   ]
  },
  {
   "cell_type": "markdown",
   "id": "009d9c78",
   "metadata": {},
   "source": [
    "Then there's DatabaseSessionService if you want reliable saving to a database you manage. "
   ]
  },
  {
   "cell_type": "code",
   "execution_count": 2,
   "id": "15d2d54e",
   "metadata": {},
   "outputs": [],
   "source": [
    "# Example: Using DatabaseSessionService\n",
    "# This is suitable for production or development requiring persistent storage.\n",
    "# You need to configure a database URL (e.g., for SQLite, PostgreSQL, etc.).\n",
    "# Requires: pip install google-adk[sqlalchemy] and a database driver (e.g., psycopg2 for PostgreSQL)\n",
    "from google.adk.sessions import DatabaseSessionService\n",
    "# Example using a local SQLite file:\n",
    "db_url = \"sqlite:///./my_agent_data.db\"\n",
    "session_service = DatabaseSessionService(db_url=db_url)"
   ]
  },
  {
   "cell_type": "markdown",
   "id": "0dd44b1e",
   "metadata": {},
   "source": [
    "Besides, there's VertexAiSessionService which uses Vertex AI infrastructure for scalable production on Google Cloud."
   ]
  },
  {
   "cell_type": "code",
   "execution_count": 3,
   "id": "8d4710ce",
   "metadata": {},
   "outputs": [],
   "source": [
    "# Example: Using VertexAiSessionService\n",
    "# This is suitable for scalable production on Google Cloud Platform, leveraging\n",
    "# Vertex AI infrastructure for session management.\n",
    "# Requires: pip install google-adk[vertexai] and GCP setup/authentication\n",
    "from google.adk.sessions import VertexAiSessionService\n",
    "from dotenv import load_dotenv\n",
    "import os\n",
    "load_dotenv() # Load environment variables from a .env file if present\n",
    "\n",
    "PROJECT_ID = os.getenv(\"GCP_PROJECT_ID\") \n",
    "LOCATION = os.getenv(\"GCP_LOCATION\") \n",
    "# The app_name used with this service should correspond to the Reasoning Engine ID or name\n",
    "REASONING_ENGINE_APP_NAME = f\"projects/{PROJECT_ID}/locations/{LOCATION}/reasoningEngines/your-engine-id\"  # Replace with your Reasoning Engine resource name\n",
    "\n",
    "session_service = VertexAiSessionService(project=PROJECT_ID, location=LOCATION)\n",
    "# When using this service, pass REASONING_ENGINE_APP_NAME to service methods:\n",
    "# session_service.create_session(app_name=REASONING_ENGINE_APP_NAME, ...)\n",
    "# session_service.get_session(app_name=REASONING_ENGINE_APP_NAME, ...)\n",
    "# session_service.append_event(session, event, app_name=REASONING_ENGINE_APP_NAME)\n",
    "# session_service.delete_session(app_name=REASONING_ENGINE_APP_NAME, ...)"
   ]
  },
  {
   "cell_type": "markdown",
   "id": "bc8b5e1a",
   "metadata": {},
   "source": [
    "**Notes:**\n",
    "\n",
    "The session services created above don't affect the following code, as the `session_service` variable will be overwritten again with the `InMemorySessionService()`. "
   ]
  },
  {
   "cell_type": "markdown",
   "id": "d934fa7c",
   "metadata": {},
   "source": [
    "Choosing an appropriate SessionService is crucial as it determines how the agent's interaction history and temporary data are stored and their persistence.\n",
    "\n",
    "Each message exchange involves a cyclical process: A message is received, the Runner retrieves or establishes a Session using the SessionService, the agent processes the message using the Session's context (state and historical interactions), the agent generates a response and may update the state, the Runner encapsulates this as an Event, and the session_service.append_event method records the new event and updates the state in storage. The Session then awaits the next message. Ideally, the delete_session method is employed to terminate the session when the interaction concludes. This process illustrates how the SessionService maintains continuity by managing the Session-specific history and temporary data."
   ]
  },
  {
   "cell_type": "markdown",
   "id": "f53f1975",
   "metadata": {},
   "source": [
    "## State: The Session's Scratchpad\n",
    "\n",
    "In the ADK, each Session, representing a chat thread, includes a state component akin to an agent's temporary working memory for the duration of that specific conversation. While session.events logs the entire chat history, session.state stores and updates dynamic data points relevant to the active chat.\n",
    "\n",
    "Fundamentally, session.state operates as a dictionary, storing data as key-value pairs. Its core function is to enable the agent to retain and manage details essential for coherent dialogue, such as user preferences, task progress, incremental data collection, or conditional flags influencing subsequent agent actions.\n",
    "\n",
    "The state’s structure comprises string keys paired with values of serializable Python types, including strings, numbers, booleans, lists, and dictionaries containing these basic types. State is dynamic, evolving throughout the conversation. The permanence of these changes depends on the configured SessionService.\n",
    "\n",
    "State organization can be achieved using key prefixes to define data scope and persistence. Keys without prefixes are session-specific. \n",
    "\n",
    "- The user: prefix associates data with a user ID across all sessions. \n",
    "- The app: prefix designates data shared among all users of the application. \n",
    "- The temp: prefix indicates data valid only for the current processing turn and is not persistently stored. \n",
    "\n",
    "The agent accesses all state data through a single session.state dictionary. The SessionService handles data retrieval, merging, and persistence. State should be updated upon adding an Event to the session history via session_service.append_event(). This ensures accurate tracking, proper saving in persistent services, and safe handling of state changes."
   ]
  },
  {
   "cell_type": "markdown",
   "id": "dd11784c",
   "metadata": {},
   "source": [
    "### 1. The Simple Way: Using output_key (for Agent Text Replies): "
   ]
  },
  {
   "cell_type": "markdown",
   "id": "fe1346c3",
   "metadata": {},
   "source": [
    "This is the easiest method if you just want to save your agent's final text response directly into the state. When you set up your LlmAgent, just tell it the output_key you want to use. The Runner sees this and automatically creates the necessary actions to save the response to the state when it appends the event. Let's look at a code example demonstrating state update via output_key."
   ]
  },
  {
   "cell_type": "code",
   "execution_count": 4,
   "id": "a0198ea6",
   "metadata": {},
   "outputs": [],
   "source": [
    "# Import necessary classes from the Google Agent Developer Kit (ADK)\n",
    "from google.adk.agents import LlmAgent\n",
    "from google.adk.sessions import InMemorySessionService, Session\n",
    "from google.adk.runners import Runner\n",
    "from google.genai.types import Content, Part\n",
    "\n",
    "GOOGLE_API_KEY = os.getenv(\"GOOGLE_API_KEY\")  # Ensure your API key is set in the environment"
   ]
  },
  {
   "cell_type": "code",
   "execution_count": 5,
   "id": "911c9bf4",
   "metadata": {},
   "outputs": [],
   "source": [
    "# Define an LlmAgent with an output_key.\n",
    "greeting_agent = LlmAgent(\n",
    "   name=\"Greeter\",\n",
    "   model=\"gemini-2.0-flash\",\n",
    "   instruction=\"Generate a short, friendly greeting.\",\n",
    "   output_key=\"last_greeting\"\n",
    ")"
   ]
  },
  {
   "cell_type": "code",
   "execution_count": 6,
   "id": "5b79c214",
   "metadata": {},
   "outputs": [
    {
     "name": "stdout",
     "output_type": "stream",
     "text": [
      "Initial state: {}\n"
     ]
    }
   ],
   "source": [
    "# --- Setup Runner and Session ---\n",
    "app_name, user_id, session_id = \"state_app\", \"user1\", \"session1\"\n",
    "session_service = InMemorySessionService()\n",
    "runner = Runner(\n",
    "   agent=greeting_agent,\n",
    "   app_name=app_name,\n",
    "   session_service=session_service\n",
    ")\n",
    "# ORIGINAL CODE:\n",
    "# session = session_service.create_session(\n",
    "#    app_name=app_name,\n",
    "#    user_id=user_id,\n",
    "#    session_id=session_id\n",
    "# )\n",
    "\n",
    "import asyncio\n",
    "\n",
    "async def async_create_session(): \n",
    "    session = await session_service.create_session(\n",
    "       app_name=app_name,\n",
    "       user_id=user_id,\n",
    "       session_id=session_id\n",
    "    )\n",
    "    return session\n",
    "session = await async_create_session()\n",
    "\n",
    "print(f\"Initial state: {session.state}\")"
   ]
  },
  {
   "cell_type": "markdown",
   "id": "962a8017",
   "metadata": {},
   "source": [
    "**Notes**: \n",
    "\n",
    "An error `AttributeError: 'coroutine' object has no attribute 'state'` occurs because `session` is a coroutine (from an `async` function), not an actual session object. You need to await the coroutine to get the session object, then access its `.state` attribute.\n",
    "\n",
    "That's why we have to use the helper async function `async_create_session()`. \n",
    "\n",
    "Key points:\n",
    "- Await the coroutine returned by session_service.create_session(...) to get the session object.\n",
    "- Access .state on the session object, not the coroutine.\n"
   ]
  },
  {
   "cell_type": "code",
   "execution_count": 7,
   "id": "ec03f1dd",
   "metadata": {},
   "outputs": [
    {
     "name": "stdout",
     "output_type": "stream",
     "text": [
      "\n",
      "--- Running the agent ---\n",
      "Agent responded.\n",
      "Agent responded.\n"
     ]
    }
   ],
   "source": [
    "# --- Run the Agent ---\n",
    "user_message = Content(parts=[Part(text=\"Hello\")])\n",
    "print(\"\\n--- Running the agent ---\")\n",
    "for event in runner.run(\n",
    "   user_id=user_id,\n",
    "   session_id=session_id,\n",
    "   new_message=user_message\n",
    "):\n",
    "   if event.is_final_response():\n",
    "     print(\"Agent responded.\")"
   ]
  },
  {
   "cell_type": "markdown",
   "id": "80f2bf77",
   "metadata": {},
   "source": [
    "**Notes**: \n",
    "\n",
    "In the above code, for `runner.run()` to work, you need to have a valid `GOOGLE_API_KEY` in your `.env`. "
   ]
  },
  {
   "cell_type": "code",
   "execution_count": 8,
   "id": "f4f50b81",
   "metadata": {},
   "outputs": [
    {
     "name": "stdout",
     "output_type": "stream",
     "text": [
      "\n",
      "State after agent run: {'last_greeting': 'Hi there! How can I help you today?\\n'}\n"
     ]
    }
   ],
   "source": [
    "# --- Check Updated State ---\n",
    "# Correctly check the state *after* the runner has finished processing all events.\n",
    "async def async_get_session(): \n",
    "    session = await session_service.get_session(\n",
    "       app_name=app_name,\n",
    "       user_id=user_id,\n",
    "       session_id=session_id\n",
    "    )\n",
    "    return session\n",
    "updated_session = await async_get_session()\n",
    "# ORIGINAL CODE: \n",
    "# updated_session = session_service.get_session(app_name, user_id, session_id)\n",
    "print(f\"\\nState after agent run: {updated_session.state}\")"
   ]
  },
  {
   "cell_type": "markdown",
   "id": "f1c6cb0d",
   "metadata": {},
   "source": [
    "**Notes**: \n",
    "\n",
    "The above code using `.get_session()` also had to be wrapped in an async function (in the same fashion as for `create_session()`). "
   ]
  },
  {
   "cell_type": "markdown",
   "id": "caa9376e",
   "metadata": {},
   "source": [
    "Behind the scenes, the Runner sees your output_key and automatically creates the necessary actions with a state_delta when it calls append_event.\n"
   ]
  },
  {
   "cell_type": "markdown",
   "id": "c0ade366",
   "metadata": {},
   "source": [
    "### 2. The Standard Way: Using EventActions.state_delta (for More Complicated Updates):"
   ]
  },
  {
   "cell_type": "markdown",
   "id": "10ea9873",
   "metadata": {},
   "source": [
    "For times when you need to do more complex things – like updating several keys at once, saving things that aren't just text, targeting specific scopes like user: or app:, or making updates that aren't tied to the agent's final text reply – you'll manually build a dictionary of your state changes (the state_delta) and include it within the EventActions of the Event you're appending. Let's look at one example:"
   ]
  },
  {
   "cell_type": "code",
   "execution_count": 9,
   "id": "08b444b2",
   "metadata": {},
   "outputs": [],
   "source": [
    "import time\n",
    "from google.adk.tools.tool_context import ToolContext\n",
    "from google.adk.sessions import InMemorySessionService"
   ]
  },
  {
   "cell_type": "code",
   "execution_count": 10,
   "id": "3b68b2fa",
   "metadata": {},
   "outputs": [],
   "source": [
    "# --- Define the Recommended Tool-Based Approach ---\n",
    "def log_user_login(tool_context: ToolContext) -> dict:\n",
    "   \"\"\"\n",
    "   Updates the session state upon a user login event.\n",
    "   This tool encapsulates all state changes related to a user login.\n",
    "   Args:\n",
    "       tool_context: Automatically provided by ADK, gives access to session state.\n",
    "   Returns:\n",
    "       A dictionary confirming the action was successful.\n",
    "   \"\"\"\n",
    "   # Access the state directly through the provided context.\n",
    "   state = tool_context.state\n",
    "  \n",
    "   # Get current values or defaults, then update the state.\n",
    "   # This is much cleaner and co-locates the logic.\n",
    "   login_count = state.get(\"user:login_count\", 0) + 1\n",
    "   state[\"user:login_count\"] = login_count\n",
    "   state[\"task_status\"] = \"active\"\n",
    "   state[\"user:last_login_ts\"] = time.time()\n",
    "   state[\"temp:validation_needed\"] = True\n",
    "  \n",
    "   print(\"State updated from within the `log_user_login` tool.\")\n",
    "  \n",
    "   return {\n",
    "       \"status\": \"success\",\n",
    "       \"message\": f\"User login tracked. Total logins: {login_count}.\"\n",
    "   }"
   ]
  },
  {
   "cell_type": "code",
   "execution_count": 11,
   "id": "cce7a5ff",
   "metadata": {},
   "outputs": [
    {
     "name": "stdout",
     "output_type": "stream",
     "text": [
      "Initial state: {'user:login_count': 0, 'task_status': 'idle'}\n"
     ]
    }
   ],
   "source": [
    "# --- Demonstration of Usage ---\n",
    "# In a real application, an LLM Agent would decide to call this tool.\n",
    "# Here, we simulate a direct call for demonstration purposes.\n",
    "\n",
    "# 1. Setup\n",
    "session_service = InMemorySessionService()\n",
    "app_name, user_id, session_id = \"state_app_tool\", \"user3\", \"session3\"\n",
    "\n",
    "import asyncio\n",
    "\n",
    "async def create_session_async():\n",
    "    session = await session_service.create_session(\n",
    "        app_name=app_name,\n",
    "        user_id=user_id,\n",
    "        session_id=session_id,\n",
    "        state={\"user:login_count\": 0, \"task_status\": \"idle\"}\n",
    "    )\n",
    "    return session\n",
    "session = await create_session_async()\n",
    "# ORIGINAL CODE:\n",
    "# session = session_service.create_session(\n",
    "#    app_name=app_name,\n",
    "#    user_id=user_id,\n",
    "#    session_id=session_id,\n",
    "#    state={\"user:login_count\": 0, \"task_status\": \"idle\"}\n",
    "# )\n",
    "print(f\"Initial state: {session.state}\")"
   ]
  },
  {
   "cell_type": "markdown",
   "id": "cfbf1f5e",
   "metadata": {},
   "source": [
    "**Note:**\n",
    "\n",
    "Again, we had to wrap the session `create_session()` inside an `async` function and call it with `await`. "
   ]
  },
  {
   "cell_type": "code",
   "execution_count": 12,
   "id": "a7bc596c",
   "metadata": {},
   "outputs": [],
   "source": [
    "# 2. Simulate a tool call (in a real app, the ADK Runner does this)\n",
    "# We create a ToolContext manually just for this standalone example.\n",
    "from google.adk.agents.invocation_context import InvocationContext\n",
    "# ORIGINAL CODE:\n",
    "# from google.adk.agents.tool_context import InvocationContext\n",
    "mock_context = ToolContext(\n",
    "   invocation_context=InvocationContext(\n",
    "       invocation_id=\"some_mock_invocation_id\", \n",
    "       agent=greeting_agent, \n",
    "       session=session, \n",
    "       session_service=session_service,\n",
    "       )\n",
    "# ORIGINAL CODE:\n",
    "#    invocation_context=InvocationContext(\n",
    "#        app_name=app_name, user_id=user_id, session_id=session_id,\n",
    "#        session=session, session_service=session_service\n",
    "#    )\n",
    ")"
   ]
  },
  {
   "cell_type": "markdown",
   "id": "484c2ee7",
   "metadata": {},
   "source": [
    "**Notes:**\n",
    "\n",
    "We had to change the `import` and some arguments in instantiating `InvocationContext()` (seems the original code worked for an older version of Google ADK). "
   ]
  },
  {
   "cell_type": "code",
   "execution_count": 18,
   "id": "44a76560",
   "metadata": {},
   "outputs": [
    {
     "name": "stdout",
     "output_type": "stream",
     "text": [
      "State updated from within the `log_user_login` tool.\n"
     ]
    },
    {
     "data": {
      "text/plain": [
       "{'status': 'success', 'message': 'User login tracked. Total logins: 3.'}"
      ]
     },
     "execution_count": 18,
     "metadata": {},
     "output_type": "execute_result"
    }
   ],
   "source": [
    "# 3. Execute the tool\n",
    "log_user_login(mock_context)"
   ]
  },
  {
   "cell_type": "markdown",
   "id": "98a1f107",
   "metadata": {},
   "source": [
    "**Notes:** \n",
    "\n",
    "The above code was executed 3 times to test, if the login counter works properly. And it works! "
   ]
  },
  {
   "cell_type": "code",
   "execution_count": 19,
   "id": "0e8559e1",
   "metadata": {},
   "outputs": [
    {
     "name": "stdout",
     "output_type": "stream",
     "text": [
      "Session state explicitly persisted via append_event.\n"
     ]
    }
   ],
   "source": [
    "from google.adk.events import Event, EventActions\n",
    "\n",
    "# Build the state_delta from your tool's changes\n",
    "state_delta = session.state.copy()  # or just the keys you want to persist\n",
    "\n",
    "event = Event(\n",
    "    actions=EventActions(state_delta=state_delta),\n",
    "    author=session.user_id,\n",
    ")\n",
    "\n",
    "await session_service.append_event(session, event)\n",
    "print(\"Session state explicitly persisted via append_event.\")"
   ]
  },
  {
   "cell_type": "markdown",
   "id": "0a0982b1",
   "metadata": {},
   "source": [
    "**Notes:**\n",
    "\n",
    "The purpose of the above added code cell: \n",
    "\n",
    "When we update the session state directly inside the `log_user_login()` tool (by modifying session.state), those changes were only made in memory — they were not automatically persisted by the session service. As a result, when we now retrieve the session using get_session_async(), the state would not reflect the changes. \n",
    "\n",
    "This happens because ADK’s session persistence relies on events: only changes recorded via `session_service.append_event(session, event)` (or by the Runner when processing agent outputs) are saved and made available in future session retrievals. Direct modifications to `session.state` are not persisted unless you explicitly record them as an event. \n",
    "\n",
    "In summary:\n",
    "\n",
    "- Direct changes to `session.state` are not automatically saved.\n",
    "- You must use the session service’s event system to persist state changes for them to be reflected in future session retrievals.\n",
    "\n",
    "P.S.: The third paragraph of the explanatory text after the code section also addresses this issue. However, at that time and Google ADK version, directly updating `session.state` from within a tool still seemed to work. "
   ]
  },
  {
   "cell_type": "code",
   "execution_count": 20,
   "id": "7a68280d",
   "metadata": {},
   "outputs": [],
   "source": [
    "# 4. Check the updated state\n",
    "async def get_session_async():\n",
    "    session = await session_service.get_session(\n",
    "        app_name=app_name,\n",
    "        user_id=user_id,\n",
    "        session_id=session_id\n",
    "    )\n",
    "    return session\n",
    "updated_session = await get_session_async()\n",
    "# ORIGINAL CODE:\n",
    "# updated_session = session_service.get_session(app_name, user_id, session_id)\n"
   ]
  },
  {
   "cell_type": "code",
   "execution_count": 21,
   "id": "cd42d19a",
   "metadata": {},
   "outputs": [
    {
     "name": "stdout",
     "output_type": "stream",
     "text": [
      "State after tool execution: {'user:login_count': 3, 'task_status': 'active', 'user:last_login_ts': 1760902864.577207}\n"
     ]
    }
   ],
   "source": [
    "print(f\"State after tool execution: {updated_session.state}\")\n",
    "\n",
    "# Expected output will show the same state change as the \n",
    "# \"Before\" case,\n",
    "# but the code organization is significantly cleaner \n",
    "# and more robust."
   ]
  },
  {
   "cell_type": "markdown",
   "id": "944699c6",
   "metadata": {},
   "source": [
    "This code demonstrates a tool-based approach for managing user session state in an application. It defines a function log_user_login, which acts as a tool. This tool is responsible for updating the session state when a user logs in.\n",
    "The function takes a ToolContext object, provided by the ADK, to access and modify the session's state dictionary. Inside the tool, it increments a user:login_count, sets the task_status to \"active\", records the user:last_login_ts (timestamp), and adds a temporary flag temp:validation_needed. \n",
    "\n",
    "The demonstration part of the code simulates how this tool would be used. It sets up an in-memory session service and creates an initial session with some predefined state. A ToolContext is then manually created to mimic the environment in which the ADK Runner would execute the tool. The log_user_login function is called with this mock context. Finally, the code retrieves the session again to show that the state has been updated by the tool's execution. The goal is to show how encapsulating state changes within tools makes the code cleaner and more organized compared to directly manipulating state outside of tools.\n",
    "\n",
    "Note that direct modification of the `session.state` dictionary after retrieving a session is strongly discouraged as it bypasses the standard event processing mechanism. Such direct changes will not be recorded in the session's event history, may not be persisted by the selected `SessionService`, could lead to concurrency issues, and will not update essential metadata such as timestamps. The recommended methods for updating the session state are using the `output_key` parameter on an `LlmAgent` (specifically for the agent's final text responses) or including state changes within `EventActions.state_delta` when appending an event via `session_service.append_event()`. The `session.state` should primarily be used for reading existing data.\n",
    "\n",
    "To recap, when designing your state, keep it simple, use basic data types, give your keys clear names and use prefixes correctly, avoid deep nesting, and always update state using the append_event process."
   ]
  }
 ],
 "metadata": {
  "kernelspec": {
   "display_name": ".venv",
   "language": "python",
   "name": "python3"
  },
  "language_info": {
   "codemirror_mode": {
    "name": "ipython",
    "version": 3
   },
   "file_extension": ".py",
   "mimetype": "text/x-python",
   "name": "python",
   "nbconvert_exporter": "python",
   "pygments_lexer": "ipython3",
   "version": "3.13.5"
  }
 },
 "nbformat": 4,
 "nbformat_minor": 5
}
