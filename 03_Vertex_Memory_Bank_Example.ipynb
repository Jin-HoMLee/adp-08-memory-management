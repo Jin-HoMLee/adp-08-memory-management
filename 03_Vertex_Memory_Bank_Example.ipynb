{
 "cells": [
  {
   "cell_type": "markdown",
   "id": "7364143e",
   "metadata": {},
   "source": [
    "# Vertex Memory Bank"
   ]
  },
  {
   "cell_type": "markdown",
   "id": "5a428add",
   "metadata": {},
   "source": [
    "> Adapted and modified from https://docs.google.com/document/d/1asVTObtzIye0I9ypAztaeeI_sr_Hx2TORE02uUuqH_c/edit?tab=t.0#heading=h.jv3rycbe9ib6\n",
    "> \n",
    "> Di 21 Okt 2025 14:43:02 BST"
   ]
  },
  {
   "cell_type": "markdown",
   "id": "ff1e52fc",
   "metadata": {},
   "source": [
    "Memory Bank, a managed service in the Vertex AI Agent Engine, provides agents with  persistent, long-term memory. The service uses Gemini models to asynchronously  analyze conversation histories to extract key facts and user preferences. \n",
    "\n",
    "This information is stored persistently, organized by a defined scope like user ID, and  intelligently updated to consolidate new data and resolve contradictions. Upon  starting a new session, the agent retrieves relevant memories through either a full  data recall or a similarity search using embeddings. This process allows an agent to  maintain continuity across sessions and personalize responses based on recalled  information. \n",
    "\n",
    "The agent's runner interacts with the VertexAiMemoryBankService, which is initialized  first. This service handles the automatic storage of memories generated during the  agent's conversations. Each memory is tagged with a unique USER_ID and APP_NAME,  ensuring accurate retrieval in the future."
   ]
  },
  {
   "cell_type": "code",
   "execution_count": null,
   "id": "93ddd080",
   "metadata": {},
   "outputs": [
    {
     "ename": "NameError",
     "evalue": "name 'agent_engine' is not defined",
     "output_type": "error",
     "traceback": [
      "\u001b[31m---------------------------------------------------------------------------\u001b[39m",
      "\u001b[31mNameError\u001b[39m                                 Traceback (most recent call last)",
      "\u001b[36mCell\u001b[39m\u001b[36m \u001b[39m\u001b[32mIn[4]\u001b[39m\u001b[32m, line 3\u001b[39m\n\u001b[32m      1\u001b[39m \u001b[38;5;28;01mfrom\u001b[39;00m\u001b[38;5;250m \u001b[39m\u001b[34;01mgoogle\u001b[39;00m\u001b[34;01m.\u001b[39;00m\u001b[34;01madk\u001b[39;00m\u001b[34;01m.\u001b[39;00m\u001b[34;01mmemory\u001b[39;00m\u001b[38;5;250m \u001b[39m\u001b[38;5;28;01mimport\u001b[39;00m VertexAiMemoryBankService  \n\u001b[32m----> \u001b[39m\u001b[32m3\u001b[39m agent_engine_id = \u001b[43magent_engine\u001b[49m.api_resource.name.split(\u001b[33m\"\u001b[39m\u001b[33m/\u001b[39m\u001b[33m\"\u001b[39m)[-\u001b[32m1\u001b[39m]  \n\u001b[32m      5\u001b[39m memory_service = VertexAiMemoryBankService(\n\u001b[32m      6\u001b[39m     project=\u001b[33m\"\u001b[39m\u001b[33mPROJECT_ID\u001b[39m\u001b[33m\"\u001b[39m,  \n\u001b[32m      7\u001b[39m     location=\u001b[33m\"\u001b[39m\u001b[33mLOCATION\u001b[39m\u001b[33m\"\u001b[39m,  \n\u001b[32m      8\u001b[39m     agent_engine_id=agent_engine_id  \n\u001b[32m      9\u001b[39m )  \n\u001b[32m     11\u001b[39m session = \u001b[38;5;28;01mawait\u001b[39;00m session_service.get_session(  \n\u001b[32m     12\u001b[39m     app_name=app_name,  \n\u001b[32m     13\u001b[39m     user_id=\u001b[33m\"\u001b[39m\u001b[33mUSER_ID\u001b[39m\u001b[33m\"\u001b[39m,  \n\u001b[32m     14\u001b[39m     session_id=session.id  \n\u001b[32m     15\u001b[39m )  \n",
      "\u001b[31mNameError\u001b[39m: name 'agent_engine' is not defined"
     ]
    }
   ],
   "source": [
    "from google.adk.memory import VertexAiMemoryBankService  \n",
    "\n",
    "agent_engine_id = agent_engine.api_resource.name.split(\"/\")[-1]  \n",
    "\n",
    "memory_service = VertexAiMemoryBankService(\n",
    "    project=\"PROJECT_ID\",  \n",
    "    location=\"LOCATION\",  \n",
    "    agent_engine_id=agent_engine_id  \n",
    ")  \n",
    "\n",
    "session = await session_service.get_session(  \n",
    "    app_name=app_name,  \n",
    "    user_id=\"USER_ID\",  \n",
    "    session_id=session.id  \n",
    ")  \n",
    "\n",
    "await memory_service.add_session_to_memory(session)"
   ]
  },
  {
   "cell_type": "markdown",
   "id": "472910b7",
   "metadata": {},
   "source": [
    "---\n",
    "\n",
    "**Notes:**\n",
    "\n",
    "Tried to create an Agent Engine according to https://google.github.io/adk-docs/sessions/express-mode/#create-an-agent-engine (Mi 22 Okt 2025 12:59:26 BST) but wasn't successful. \n",
    "\n",
    "Maybe try again later. \n",
    "\n",
    "---"
   ]
  },
  {
   "cell_type": "markdown",
   "id": "b7302e15",
   "metadata": {},
   "source": [
    "Memory Bank offers seamless integration with the Google ADK, providing an  immediate out-of-the-box experience. For users of other agent frameworks, such as  LangGraph and CrewAI, Memory Bank also offers support through direct API calls.  Online code examples demonstrating these integrations are readily available for  interested readers. "
   ]
  }
 ],
 "metadata": {
  "kernelspec": {
   "display_name": ".venv",
   "language": "python",
   "name": "python3"
  },
  "language_info": {
   "codemirror_mode": {
    "name": "ipython",
    "version": 3
   },
   "file_extension": ".py",
   "mimetype": "text/x-python",
   "name": "python",
   "nbconvert_exporter": "python",
   "pygments_lexer": "ipython3",
   "version": "3.13.5"
  }
 },
 "nbformat": 4,
 "nbformat_minor": 5
}
